{
 "cells": [
  {
   "attachments": {},
   "cell_type": "markdown",
   "metadata": {},
   "source": [
    "# Central API Notebook\n",
    "\n",
    "[![](https://files.readme.io/ca270e4-small-aruba-developer-hub_681x1002.png)](https://developer.arubanetworks.com/aruba-central/)\n",
    "\n",
    "Find the documentation here: https://developer.arubanetworks.com/aruba-central/\n",
    "\n",
    "Find the API reference here: https://developer.arubanetworks.com/aruba-central/reference/"
   ]
  },
  {
   "attachments": {},
   "cell_type": "markdown",
   "metadata": {},
   "source": [
    "## Import packages"
   ]
  },
  {
   "cell_type": "code",
   "execution_count": null,
   "metadata": {},
   "outputs": [],
   "source": [
    "from decorest import GET, RestClient, backend, query, on, timeout\n",
    "from typing import Literal\n",
    "\n",
    "from CentralTokenAuth.CentralTokenAuth import CentralTokenAuth"
   ]
  },
  {
   "attachments": {},
   "cell_type": "markdown",
   "metadata": {},
   "source": [
    "## Add Central Client with decorest\n",
    "\n",
    "Decorest is decorator heavy rest client. See [here](https://github.com/bkryza/decorest)."
   ]
  },
  {
   "cell_type": "code",
   "execution_count": null,
   "metadata": {},
   "outputs": [],
   "source": [
    "# Central Client with API Definitions\n",
    "@backend('httpx')\n",
    "class Central(RestClient):\n",
    "    @GET('path/to/resource')\n",
    "    @query('client_type')\n",
    "    @query('client_status')\n",
    "    @on(200, lambda r: r.json())\n",
    "    @timeout(60)\n",
    "    def name_of_method(self, group, client_type, client_status='CONNECTED'):\n",
    "        \"\"\"\n",
    "        Comment\n",
    "\n",
    "        ---\n",
    "        https://developer.arubanetworks.com/aruba-central/reference/path\n",
    "        \"\"\""
   ]
  },
  {
   "attachments": {},
   "cell_type": "markdown",
   "metadata": {},
   "source": [
    "## Configure Endpoint/Client ID/Credential\n",
    "### endpoint.json\n",
    "``` json\n",
    "{\n",
    "    \"name\": \"Internal\",\n",
    "    \"base_url\": \"https://*-apigw.central.arubanetworks.com\"\n",
    "}\n",
    "```\n",
    "### client_id.json\n",
    "``` json\n",
    "{\n",
    "    \"client_id\": \"94a...\",\n",
    "    \"client_secret\": \"bcn...\"\n",
    "}\n",
    "\n",
    "```\n",
    "### credential.json\n",
    "``` json\n",
    "{\n",
    "    \"access_token\": \"FqY...\",\n",
    "    \"appname\": \"nms\",\n",
    "    \"authenticated_userid\": \"user.name@example.com\",\n",
    "    \"created_at\": 1677142162,\n",
    "    \"credential_id\": \"085...\",\n",
    "    \"expires_in\": 7200,\n",
    "    \"id\": \"85f...\",\n",
    "    \"refresh_token\": \"jx5...\",\n",
    "    \"scope\": \"all\",\n",
    "    \"token_type\": \"bearer\"\n",
    "}\n",
    "\n",
    "```"
   ]
  },
  {
   "cell_type": "code",
   "execution_count": 3,
   "metadata": {},
   "outputs": [],
   "source": [
    "endpoint_file = './endpoint.json'\n",
    "client_id_file = './client_id.json'\n",
    "credential_file = './credential.json'"
   ]
  },
  {
   "cell_type": "code",
   "execution_count": 4,
   "metadata": {},
   "outputs": [],
   "source": [
    "import json\n",
    "# Extract base_url from endpoint configuration file\n",
    "base_url = None\n",
    "with open(endpoint_file, 'r') as f:\n",
    "    base_url = json.load(f)['base_url']"
   ]
  },
  {
   "attachments": {},
   "cell_type": "markdown",
   "metadata": {},
   "source": [
    "## Configure central api client\n",
    "Configure central api client using credential provided via `client_id_file` and `credential_file`"
   ]
  },
  {
   "cell_type": "code",
   "execution_count": 5,
   "metadata": {},
   "outputs": [],
   "source": [
    "central_client = Central(base_url,\n",
    "                         backend='httpx',\n",
    "                         auth=CentralTokenAuth(\n",
    "                             base_url=base_url,\n",
    "                             client_id_file=client_id_file,\n",
    "                             credential_file=credential_file))"
   ]
  }
 ],
 "metadata": {
  "kernelspec": {
   "display_name": "venv-win",
   "language": "python",
   "name": "python3"
  },
  "language_info": {
   "codemirror_mode": {
    "name": "ipython",
    "version": 3
   },
   "file_extension": ".py",
   "mimetype": "text/x-python",
   "name": "python",
   "nbconvert_exporter": "python",
   "pygments_lexer": "ipython3",
   "version": "3.10.11"
  },
  "orig_nbformat": 4,
  "vscode": {
   "interpreter": {
    "hash": "d93000742a1f534fa8e0b4dbabd1a81a3120ebb99b329bce72d08c26d84968be"
   }
  }
 },
 "nbformat": 4,
 "nbformat_minor": 2
}
