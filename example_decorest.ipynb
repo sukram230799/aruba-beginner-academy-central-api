{
 "cells": [
  {
   "cell_type": "markdown",
   "metadata": {},
   "source": [
    "# Central API Notebook\n",
    "\n",
    "[![](https://files.readme.io/ca270e4-small-aruba-developer-hub_681x1002.png)](https://developer.arubanetworks.com/aruba-central/)\n",
    "\n",
    "Find the documentation here: https://developer.arubanetworks.com/aruba-central/\n",
    "\n",
    "Find the API reference here: https://developer.arubanetworks.com/aruba-central/reference/"
   ]
  },
  {
   "attachments": {},
   "cell_type": "markdown",
   "metadata": {},
   "source": [
    "## Import packages"
   ]
  },
  {
   "cell_type": "code",
   "execution_count": null,
   "metadata": {},
   "outputs": [],
   "source": [
    "from decorest import GET, RestClient, backend, query, on, timeout\n",
    "\n",
    "from CentralTokenAuth.CentralTokenAuth import CentralTokenAuth"
   ]
  },
  {
   "attachments": {},
   "cell_type": "markdown",
   "metadata": {},
   "source": [
    "## Add Central Client with decorest\n",
    "\n",
    "Decorest is decorator heavy rest client. See [here](https://github.com/bkryza/decorest)."
   ]
  },
  {
   "cell_type": "code",
   "execution_count": null,
   "metadata": {},
   "outputs": [],
   "source": [
    "# Central Client with API Definitions\n",
    "@backend('httpx')\n",
    "class Central(RestClient):\n",
    "    @GET('monitoring/v2/clients')\n",
    "    @query('group')\n",
    "    @query('client_type')\n",
    "    @query('client_status')\n",
    "    @on(200, lambda r: r.json())\n",
    "    @timeout(60)\n",
    "    def get_clients(self, group, client_type, client_status='CONNECTED'):\n",
    "        \"\"\"\n",
    "        This is a unified form of List APIs /monitoring/v1/clients/wired and /monitoring/v1/clients/wireless and it is backward compatible with these v1 apis.\n",
    "        \n",
    "        Get a list of unified clients. You can only specify one of group, swarm_id, cluster_id, network, site and label parameters.\n",
    "\n",
    "        ---\n",
    "        https://developer.arubanetworks.com/aruba-central/reference/apiexternal_controllerget_v2_unified_clients\n",
    "        \"\"\""
   ]
  },
  {
   "attachments": {},
   "cell_type": "markdown",
   "metadata": {},
   "source": [
    "## Configure Endpoint/Client ID/Credential\n",
    "### endpoint.json\n",
    "``` json\n",
    "{\n",
    "    \"name\": \"Internal\",\n",
    "    \"base_url\": \"https://*-apigw.central.arubanetworks.com\"\n",
    "}\n",
    "```\n",
    "### client_id.json\n",
    "``` json\n",
    "{\n",
    "    \"client_id\": \"94a...\",\n",
    "    \"client_secret\": \"bcn...\"\n",
    "}\n",
    "\n",
    "```\n",
    "### credential.json\n",
    "``` json\n",
    "{\n",
    "    \"access_token\": \"FqY...\",\n",
    "    \"appname\": \"nms\",\n",
    "    \"authenticated_userid\": \"user.name@example.com\",\n",
    "    \"created_at\": 1677142162,\n",
    "    \"credential_id\": \"085...\",\n",
    "    \"expires_in\": 7200,\n",
    "    \"id\": \"85f...\",\n",
    "    \"refresh_token\": \"jx5...\",\n",
    "    \"scope\": \"all\",\n",
    "    \"token_type\": \"bearer\"\n",
    "}\n",
    "\n",
    "```"
   ]
  },
  {
   "cell_type": "code",
   "execution_count": null,
   "metadata": {},
   "outputs": [],
   "source": [
    "endpoint_file = './endpoint.json'\n",
    "client_id_file = './client_id.json'\n",
    "credential_file = './credential.json'"
   ]
  },
  {
   "cell_type": "code",
   "execution_count": null,
   "metadata": {},
   "outputs": [],
   "source": [
    "import json\n",
    "# Extract base_url from endpoint configuration file\n",
    "base_url = None\n",
    "with open(endpoint_file, 'r') as f:\n",
    "    base_url = json.load(f)['base_url']"
   ]
  },
  {
   "attachments": {},
   "cell_type": "markdown",
   "metadata": {},
   "source": [
    "## Configure central api client\n",
    "Configure central api client using credential provided via `client_id_file` and `credential_file`"
   ]
  },
  {
   "cell_type": "code",
   "execution_count": null,
   "metadata": {},
   "outputs": [],
   "source": [
    "central_client = Central(base_url,\n",
    "                         backend='httpx',\n",
    "                         auth=CentralTokenAuth(\n",
    "                             base_url=base_url,\n",
    "                             client_id_file=client_id_file,\n",
    "                             credential_file=credential_file))"
   ]
  },
  {
   "attachments": {},
   "cell_type": "markdown",
   "metadata": {},
   "source": [
    "## Load data via api\n",
    "\n",
    "Using group `'Home-AP-Group'`, display `'WIRELESS'` or `'WIRED'` that are `'CONNECTED'` or `'FAILED_TO_CONNECT'`"
   ]
  },
  {
   "cell_type": "code",
   "execution_count": null,
   "metadata": {},
   "outputs": [],
   "source": [
    "group = 'Home-AP-Group'\n",
    "\n",
    "clients_response = central_client.get_clients(group, 'WIRELESS', 'CONNECTED')\n",
    "\n",
    "clients_response"
   ]
  },
  {
   "attachments": {},
   "cell_type": "markdown",
   "metadata": {},
   "source": [
    "## Load clients into pandas DataFrame\n",
    "\n",
    "Pandas is a module for easy manipulation of columnized data. See [here](https://pandas.pydata.org/about/index.html) and [here](https://pandas.pydata.org/docs/user_guide/index.html)."
   ]
  },
  {
   "cell_type": "code",
   "execution_count": null,
   "metadata": {},
   "outputs": [],
   "source": [
    "import pandas as pd, csv\n",
    "\n",
    "clients = pd.DataFrame(clients_response['clients'])\n",
    "\n",
    "clients"
   ]
  },
  {
   "attachments": {},
   "cell_type": "markdown",
   "metadata": {},
   "source": [
    "## Export raw entries to csv"
   ]
  },
  {
   "cell_type": "code",
   "execution_count": null,
   "metadata": {},
   "outputs": [],
   "source": [
    "clients.to_csv('clients_raw.csv')"
   ]
  },
  {
   "attachments": {},
   "cell_type": "markdown",
   "metadata": {},
   "source": [
    "## Transform timestamp to date string\n",
    "\n",
    "Python uses seconds while central provides milliseconds. Therefore we divide by `1000.0`.\n",
    "\n",
    "To change the formtat use `date_format`. For documentation see [here](https://docs.python.org/3.3/library/datetime.html#strftime-and-strptime-behavior)."
   ]
  },
  {
   "cell_type": "code",
   "execution_count": null,
   "metadata": {},
   "outputs": [],
   "source": [
    "from datetime import datetime\n",
    "\n",
    "date_format = '%Y-%m-%d %H:%M:%S CET'\n",
    "\n",
    "\n",
    "def date_formatter(timestamp):\n",
    "    dt = datetime.fromtimestamp(timestamp / 1000.0)\n",
    "    date_text = dt.strftime(date_format)\n",
    "    return date_text\n",
    "\n",
    "\n",
    "clients['last_connection_datetime'] = clients['last_connection_time'].apply(\n",
    "    date_formatter)"
   ]
  },
  {
   "attachments": {},
   "cell_type": "markdown",
   "metadata": {},
   "source": [
    "## Select columns, name them and export\n",
    "\n",
    "`columns` is used to select which columns should be exported\n",
    "`headers` provides the labels/headers for those columns\n",
    "\n",
    "`columns` and `headers` must be in the same order.\n",
    "\n",
    "We disable the `index` to remove the numbering from the output"
   ]
  },
  {
   "cell_type": "code",
   "execution_count": null,
   "metadata": {},
   "outputs": [],
   "source": [
    "columns = [\n",
    "    'associated_device_mac', 'associated_device_name', 'network',\n",
    "    'last_connection_datetime', 'name'\n",
    "]\n",
    "headers = ['MAC Address', 'Device Name', 'SSID', 'Connect Time', 'Username']\n",
    "\n",
    "clients.to_csv('output.csv', columns=columns, header=headers, index=False, doublequote=True, quoting=csv.QUOTE_NONNUMERIC)"
   ]
  }
 ],
 "metadata": {
  "kernelspec": {
   "display_name": "venv-win",
   "language": "python",
   "name": "python3"
  },
  "language_info": {
   "codemirror_mode": {
    "name": "ipython",
    "version": 3
   },
   "file_extension": ".py",
   "mimetype": "text/x-python",
   "name": "python",
   "nbconvert_exporter": "python",
   "pygments_lexer": "ipython3",
   "version": "3.10.10"
  },
  "orig_nbformat": 4,
  "vscode": {
   "interpreter": {
    "hash": "a4ac72fcdf3b5f88b2aa01875d10e5edbeb101820ba1da08863116c411321098"
   }
  }
 },
 "nbformat": 4,
 "nbformat_minor": 2
}
