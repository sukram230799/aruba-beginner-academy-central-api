{
 "cells": [
  {
   "cell_type": "markdown",
   "metadata": {},
   "source": [
    "# PyCentral API Notebook\n",
    "\n",
    "[![](https://files.readme.io/ca270e4-small-aruba-developer-hub_681x1002.png)](https://developer.arubanetworks.com/aruba-central/)\n",
    "\n",
    "Find the documentation here: https://developer.arubanetworks.com/aruba-central/\n",
    "\n",
    "Find the API reference here: https://developer.arubanetworks.com/aruba-central/reference/\n",
    "\n",
    "Find the PyCentral documentationt here: https://pycentral.readthedocs.io/en/latest/"
   ]
  },
  {
   "cell_type": "markdown",
   "metadata": {},
   "source": [
    "## Import packages"
   ]
  },
  {
   "cell_type": "code",
   "execution_count": 3,
   "metadata": {},
   "outputs": [],
   "source": [
    "from pycentral.base import ArubaCentralBase\n",
    "from pycentral.workflows.workflows_utils import get_conn_from_file"
   ]
  },
  {
   "cell_type": "markdown",
   "metadata": {},
   "source": [
    "## Configure Endpoint/Client ID/Credential\n",
    "### input_vars.yml\n",
    "``` yaml\n",
    "internal:\n",
    "    client_id: \"94a...\"\n",
    "    client_secret: \"bcn...\"\n",
    "    base_url: \"https://*-apigw.central.arubanetworks.com\"\n",
    "    token:\n",
    "        access_token: \"FqY...\"\n",
    "        refresh_token: \"jx5...\"\n",
    "```"
   ]
  },
  {
   "cell_type": "code",
   "execution_count": 4,
   "metadata": {},
   "outputs": [],
   "source": [
    "central_client = get_conn_from_file(filename=\"input_vars.yml\", account=\"internal\")\n"
   ]
  },
  {
   "cell_type": "code",
   "execution_count": 6,
   "metadata": {},
   "outputs": [
    {
     "data": {
      "text/plain": [
       "{'code': 200,\n",
       " 'msg': {'data': [['AOS-CX GUI'],\n",
       "   ['AOS-CX Template'],\n",
       "   ['CX-Rename'],\n",
       "   ['default'],\n",
       "   ['Home-AP-AOS8'],\n",
       "   ['Home-AP-Group'],\n",
       "   ['Home-SW-Group'],\n",
       "   ['Home-SW-MonitorOnly'],\n",
       "   ['SW-Template'],\n",
       "   ['Test 001'],\n",
       "   ['Test 002'],\n",
       "   ['Test 003'],\n",
       "   ['Test 004'],\n",
       "   ['Test 005'],\n",
       "   ['Test 006'],\n",
       "   ['Test 007'],\n",
       "   ['Test 008'],\n",
       "   ['Test 009'],\n",
       "   ['Test 010'],\n",
       "   ['Test 011']],\n",
       "  'total': 26},\n",
       " 'headers': {'Content-Type': 'application/json',\n",
       "  'Content-Length': '671',\n",
       "  'Connection': 'keep-alive',\n",
       "  'X-RateLimit-Limit-day': '5000',\n",
       "  'X-RateLimit-Remaining-day': '4925',\n",
       "  'Date': 'Thu, 19 Oct 2023 13:23:03 GMT',\n",
       "  'access-control-allow-origin': '*',\n",
       "  'cache-control': 'no-cache, no-store, must-revalidate, private',\n",
       "  'pragma': 'no-cache',\n",
       "  'X-Frame-Options': 'SAMEORIGIN',\n",
       "  'X-Request-Start': 't=1697721783.842',\n",
       "  'X-XSS-Protection': '1; mode=block'}}"
      ]
     },
     "execution_count": 6,
     "metadata": {},
     "output_type": "execute_result"
    }
   ],
   "source": [
    "response = central_client.command(apiMethod=\"GET\",\n",
    "                                  apiPath=\"/configuration/v2/groups\",\n",
    "                                  apiParams={\n",
    "                                      \"limit\": 20,\n",
    "                                      \"offset\": 0\n",
    "                                  })\n",
    "\n",
    "response\n"
   ]
  }
 ],
 "metadata": {
  "kernelspec": {
   "display_name": "venv-pycentral",
   "language": "python",
   "name": "python3"
  },
  "language_info": {
   "codemirror_mode": {
    "name": "ipython",
    "version": 3
   },
   "file_extension": ".py",
   "mimetype": "text/x-python",
   "name": "python",
   "nbconvert_exporter": "python",
   "pygments_lexer": "ipython3",
   "version": "3.10.11"
  }
 },
 "nbformat": 4,
 "nbformat_minor": 2
}
